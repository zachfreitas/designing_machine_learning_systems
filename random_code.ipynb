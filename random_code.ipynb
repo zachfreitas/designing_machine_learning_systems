{
 "cells": [
  {
   "cell_type": "markdown",
   "metadata": {},
   "source": [
    "# Random Code"
   ]
  },
  {
   "cell_type": "code",
   "execution_count": null,
   "metadata": {},
   "outputs": [],
   "source": [
    "import numpy as np\n",
    "\n",
    "def cross_entropy(p, q):\n",
    "    return -sum([p[i] * np.log(q[i]) for i in range(len(p))])\n",
    "\n",
    "p = [0, 0, 0, 1]\n",
    "q = [0.45, 0.2, 0.02, 0.33]\n",
    "cross_entropy(p, q)"
   ]
  },
  {
   "cell_type": "code",
   "execution_count": null,
   "metadata": {},
   "outputs": [],
   "source": [
    "p = [0, 0, 0, 1]\n",
    "q = [0.01, 0.01, 0.01, 0.970]\n",
    "cross_entropy(p, q)"
   ]
  },
  {
   "cell_type": "code",
   "execution_count": null,
   "metadata": {},
   "outputs": [],
   "source": [
    "p = [0, 0, 0, 1]\n",
    "q = [0.970, 0.01, 0.01, 0.01]\n",
    "cross_entropy(p, q)"
   ]
  },
  {
   "cell_type": "code",
   "execution_count": null,
   "metadata": {},
   "outputs": [],
   "source": []
  },
  {
   "cell_type": "markdown",
   "metadata": {},
   "source": [
    "# Data Formats"
   ]
  },
  {
   "cell_type": "markdown",
   "metadata": {},
   "source": [
    "## JSON"
   ]
  },
  {
   "cell_type": "code",
   "execution_count": null,
   "metadata": {},
   "outputs": [],
   "source": [
    "import json\n",
    "\n",
    "# some JSON:\n",
    "example_1 = \"\"\"{\n",
    "  \"firstName\": \"Boatie\",\n",
    "  \"lastName\": \"McBoatFace\",\n",
    "  \"isVibing\": true,\n",
    "  \"age\": 12,\n",
    "  \"address\": {\n",
    "    \"streetAddress\": \"12 Ocean Drive\",\n",
    "    \"city\": \"Port Royal\",\n",
    "    \"postalCode\": \"10021-3100\"\n",
    "  }\n",
    "}\"\"\"\n",
    "\n",
    "# parse x:\n",
    "y = json.loads(example_1)\n",
    "\n",
    "# the result is a Python dictionary:\n",
    "print(y[\"firstName\"])\n"
   ]
  },
  {
   "cell_type": "code",
   "execution_count": null,
   "metadata": {},
   "outputs": [],
   "source": [
    "# some JSON:\n",
    "example_2 = \"\"\"{\"text\": \"Boatie McBoatFace, aged 12, is vibing, at 12 Ocean Drive, Port Royal, 10021-3100\"}\"\"\"\n",
    "\n",
    "# parse x:\n",
    "y = json.loads(example_2)\n",
    "\n",
    "# the result is a Python dictionary:\n",
    "print(y[\"text\"])"
   ]
  },
  {
   "cell_type": "markdown",
   "metadata": {},
   "source": [
    "## Numpy vs Pandas\n",
    "\n",
    "Numpy is considerably faster than Pandas. "
   ]
  },
  {
   "cell_type": "code",
   "execution_count": null,
   "metadata": {},
   "outputs": [],
   "source": [
    "# create a fake dataframe\n",
    "df = pd.util.testing.makeMixedDataFrame()\n",
    "\n",
    "print(df.shape)\n",
    "\n",
    "# increase the number of rows\n",
    "for i in range(4):\n",
    "    df = pd.concat([df, df])\n",
    "\n",
    "print(df.shape)\n",
    "\n",
    "# increase number of columns\n",
    "\n",
    "for i in range(4):\n",
    "    df = pd.concat([df, df], axis=1)\n",
    "\n",
    "print(df.shape)"
   ]
  },
  {
   "cell_type": "code",
   "execution_count": null,
   "metadata": {},
   "outputs": [],
   "source": [
    "import numpy as np\n",
    "import pandas as pd\n",
    "import time\n",
    "\n",
    "# Iterating pandas Dataframe by column\n",
    "start = time.time()\n",
    "for col in df.columns:\n",
    "    for item in df[col]:\n",
    "        pass\n",
    "print(time.time() - start, \"seconds\")"
   ]
  },
  {
   "cell_type": "code",
   "execution_count": null,
   "metadata": {},
   "outputs": [],
   "source": [
    "# Iterating pandas Dataframe by row\n",
    "n_row = len(df)\n",
    "start = time.time()\n",
    "for i in range(n_row):\n",
    "    for item in df.iloc[i]:\n",
    "        pass\n",
    "print(time.time() - start, \"seconds\")"
   ]
  },
  {
   "cell_type": "code",
   "execution_count": null,
   "metadata": {},
   "outputs": [],
   "source": [
    "# Create numpy dataframe\n",
    "\n",
    "df_np = df.to_numpy()\n",
    "n_rows, n_cols = df_np.shape\n",
    "print(df_np.shape)"
   ]
  },
  {
   "cell_type": "code",
   "execution_count": null,
   "metadata": {},
   "outputs": [],
   "source": [
    "# Iterating Numpy ndarray by column\n",
    "start = time.time()\n",
    "for j in range(n_cols):\n",
    "    for item in df_np[:, j]:\n",
    "        pass\n",
    "print(time.time() - start, \"seconds\")"
   ]
  },
  {
   "cell_type": "code",
   "execution_count": null,
   "metadata": {},
   "outputs": [],
   "source": [
    "# Iterating Numpy ndarray by row\n",
    "start = time.time()\n",
    "for i in range(n_rows):\n",
    "    for item in df_np[i]:\n",
    "        pass\n",
    "print(time.time() - start, \"seconds\")"
   ]
  },
  {
   "cell_type": "code",
   "execution_count": null,
   "metadata": {},
   "outputs": [],
   "source": [
    "df_np"
   ]
  },
  {
   "cell_type": "code",
   "execution_count": null,
   "metadata": {},
   "outputs": [],
   "source": []
  },
  {
   "cell_type": "markdown",
   "metadata": {},
   "source": [
    "## Auto-ML or Declarative ML \n",
    "Like SQL is declarative not imperative language like Python or C#"
   ]
  },
  {
   "cell_type": "code",
   "execution_count": null,
   "metadata": {},
   "outputs": [],
   "source": [
    "# import h2o\n",
    "# from h2o.automl import H2OAutoML\n",
    "\n",
    "# # Start the H2O cluster (locally)\n",
    "# h2o.init()\n",
    "\n",
    "# # Import a sample binary outcome train/test set into H2O\n",
    "# train = h2o.import_file(\"https://s3.amazonaws.com/erin-data/higgs/higgs_train_10k.csv\")\n",
    "# test = h2o.import_file(\"https://s3.amazonaws.com/erin-data/higgs/higgs_test_5k.csv\")\n",
    "\n",
    "# # Identify predictors and response\n",
    "# x = train.columns\n",
    "# y = \"response\"\n",
    "# x.remove(y)\n",
    "\n",
    "# # For binary classification, response should be a factor\n",
    "# train[y] = train[y].asfactor()\n",
    "# test[y] = test[y].asfactor()\n",
    "\n",
    "# # Run AutoML for 20 base models\n",
    "# aml = H2OAutoML(max_models=20, seed=1)\n",
    "# aml.train(x=x, y=y, training_frame=train)\n",
    "\n",
    "# # Show the best-performing models on the AutoML Leaderboard\n",
    "# lb = aml.leaderboard\n",
    "\n",
    "# # Get the best-performing model\n",
    "# aml.leader"
   ]
  },
  {
   "cell_type": "code",
   "execution_count": 2,
   "metadata": {},
   "outputs": [
    {
     "name": "stdout",
     "output_type": "stream",
     "text": [
      "[1, 2]\n",
      "[100, 2]\n"
     ]
    }
   ],
   "source": [
    "# Choose two items from the list such that 1, 2, 3, 4 each has\n",
    "# 20% chance of being selected, while 100 and 1000 each have only 10% chance.\n",
    "import random\n",
    "l1 = random.choices(population=[1, 2, 3, 4, 100, 1000],\n",
    "                    weights=[0.2, 0.2, 0.2, 0.2, 0.1, 0.1],\n",
    "                    k=2)\n",
    "print(l1)\n",
    "# This is equivalent to the following\n",
    "l2 = random.choices(population=[1, 1, 2, 2, 3, 3, 4, 4, 100, 1000],\n",
    "                    k=2)\n",
    "print(l2)"
   ]
  },
  {
   "cell_type": "markdown",
   "metadata": {},
   "source": [
    "# Data Labeling - Weak Supervision\n",
    "The idea of using Labeling Functions\n",
    "\n",
    "https://www.snorkel.org/\n",
    "\n"
   ]
  },
  {
   "cell_type": "code",
   "execution_count": null,
   "metadata": {},
   "outputs": [],
   "source": [
    "# labeling Function Example\n",
    "def labeling_function(note):\n",
    "   if \"pneumonia\" in note:\n",
    "     return \"EMERGENT\"\n"
   ]
  },
  {
   "cell_type": "markdown",
   "metadata": {},
   "source": [
    "text classification problem—given a piece of text, classify whether it’s toxic or not—\n",
    "\n",
    "Common models for text classification include:\n",
    "* naive Bayes\n",
    "* logistic regression\n",
    "* recurrent neural networks\n",
    "* transformer-based models such as BERT, GPT, and their variants.\n",
    "\n",
    "\n",
    "detect fraudulent transactions, you know that this is the classic abnormality detection problem—fraudulent transactions are abnormalities that you want to detect—and common algorithms for this problem are many\n",
    "\n",
    "Classic abnormality detection problem:\n",
    "* k-nearest neighbors\n",
    "* isolation forest\n",
    "* clustering\n",
    "* neural networks\n",
    "* many others\n",
    "\n"
   ]
  },
  {
   "cell_type": "markdown",
   "metadata": {},
   "source": []
  }
 ],
 "metadata": {
  "kernelspec": {
   "display_name": "Python 3",
   "language": "python",
   "name": "python3"
  },
  "language_info": {
   "codemirror_mode": {
    "name": "ipython",
    "version": 3
   },
   "file_extension": ".py",
   "mimetype": "text/x-python",
   "name": "python",
   "nbconvert_exporter": "python",
   "pygments_lexer": "ipython3",
   "version": "3.11.7"
  }
 },
 "nbformat": 4,
 "nbformat_minor": 2
}
